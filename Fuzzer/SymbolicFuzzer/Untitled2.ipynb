{
 "cells": [
  {
   "cell_type": "code",
   "execution_count": null,
   "metadata": {},
   "outputs": [],
   "source": [
    "# Example of graph creation - bank loan example, and inspecting the graph..\n",
    "# pip install networkx\n",
    "\n",
    "from py_expression_eval import Parser # Not used at the moment but might be good !\n",
    "parser = Parser()\n",
    "import copy\n",
    "import networkx\n",
    "\n",
    "# Examples of node creation\n",
    "class BranchNode():  # Just an example of a base class\n",
    "    def __init__(self, name : str, condition : str):\n",
    "        self.expression = Parser().parse(condition)\n",
    "        self.valuesAndNext : Dict[str, str] = {} # A dictionary from expression value to next branch\n",
    "        self.name = name\n",
    "        \n",
    "    def getVariables(self):\n",
    "        return self.expression.variables()\n",
    "    \n",
    "    def __str__(self):\n",
    "        return self.name + \" \" + str(self.expression)\n",
    "        \n",
    "\n",
    "A = BranchNode('loanTest1', 'loan < 1000')\n",
    "B = BranchNode('loanTest2', 'loan >= 1000 and loan <= 1000')\n",
    "C = BranchNode('termTest', 'term < 5')\n",
    "\n",
    "print(\"An example of accessing the variables inside the nodes...\")\n",
    "print(str(A.getVariables()))\n",
    "\n",
    "print(A)\n",
    "\n",
    "\n",
    "import networkx as nx\n",
    "graph = nx.DiGraph()\n",
    "graph.clear()\n",
    "graph.graph['modelName'] = \"Bank Loan\"\n",
    "\n",
    "graph.add_node(A)\n",
    "graph.add_node(B)\n",
    "graph.add_node(C)\n",
    "\n",
    "graph.add_edge(A,B)\n",
    "graph.add_edge(A,C)\n",
    "graph.add_edge(B,C)\n",
    "\n",
    "\n",
    "def debugInspectGraph():\n",
    "    print(\"Graph nodes: \")\n",
    "    for node in graph.nodes:\n",
    "        print(node)\n",
    "\n",
    "    print(\"Graph edges: \")\n",
    "    for edge in graph.edges:\n",
    "        start = edge[0]\n",
    "        end = edge[1]\n",
    "        print(f\"start from {start.name} end {end.name}\")\n",
    "\n",
    "    print(\"In Degrees: \", graph.in_degree([node for node in graph.nodes]))\n",
    "    print(\"Out Degrees: \", graph.out_degree([node for node in graph.nodes]))\n",
    "    \n",
    "debugInspectGraph()"
   ]
  },
  {
   "cell_type": "code",
   "execution_count": null,
   "metadata": {},
   "outputs": [],
   "source": [
    "import matplotlib as plt\n",
    "G = nx.dodecahedral_graph()\n",
    "nx.draw_networkx(graph)\n",
    "#nx.draw(graph, pos=nx.spring_layout(graph))  # use spring layout\n",
    "plt.pyplot.show()"
   ]
  },
  {
   "cell_type": "code",
   "execution_count": null,
   "metadata": {
    "pycharm": {
     "name": "#%%\n"
    }
   },
   "outputs": [],
   "source": [
    "#pip install Z3str3 "
   ]
  },
  {
   "cell_type": "code",
   "execution_count": null,
   "metadata": {},
   "outputs": [],
   "source": [
    "import z3\n",
    "from z3 import *\n",
    "print (z3.get_version_string())\n",
    "\n",
    "s = Solver()\n",
    "x = String('x')\n",
    "y = String('y')\n",
    "z = String('z')\n",
    "s.add(And(Length(x) < 25,Length(y) > 2))\n",
    "s.add(z == StringVal(\"paduraru\"))\n",
    "#s.add(x[0] != StringVal('\\\\x00'))\n",
    "s.add(x == y + StringVal(\" \") + z )\n",
    "s.add(y == StringVal(\"ciprian\"))\n",
    "print (s.sexpr())\n",
    "\n",
    "s.set('timeout', 5000)\n",
    "if s.check() == z3.sat:\n",
    "    print (s.model())\n",
    "else:\n",
    "    print ('unsat')\n",
    "    \n"
   ]
  },
  {
   "cell_type": "code",
   "execution_count": null,
   "metadata": {},
   "outputs": [],
   "source": [
    "strCond = \"x == StringVal('ciprian')\"\n",
    "cond = eval(strCond)\n",
    "print(cond)"
   ]
  },
  {
   "cell_type": "code",
   "execution_count": null,
   "metadata": {},
   "outputs": [],
   "source": [
    "from z3 import *"
   ]
  },
  {
   "cell_type": "code",
   "execution_count": null,
   "metadata": {},
   "outputs": [],
   "source": [
    "V = {}\n",
    "V[\"X::X\"]= Int(\"X::X\")\n",
    "V[\"X\"] = Int(\"X\")\n",
    "V[\"B\"] = Bool(\"B\")\n",
    "V[\"StrVar\"] = String(\"StrVar\")\n"
   ]
  },
  {
   "cell_type": "code",
   "execution_count": null,
   "metadata": {},
   "outputs": [],
   "source": [
    "s = Solver()\n",
    "s.add(V[\"X\"] + V[\"X::X\"] == 3)\n",
    "s.add(V[\"X\"] == 10)\n",
    "s.add(V[\"B\"] == True)\n",
    "s.add(V[\"StrVar\"] ==  \"Ciprian\")\n",
    "if s.check() == sat:\n",
    "    print (s.model())\n",
    "else:\n",
    "        print(\"Not found\")"
   ]
  },
  {
   "cell_type": "code",
   "execution_count": null,
   "metadata": {},
   "outputs": [],
   "source": [
    "loan = Int('Main:Low_-_Volume_loan')"
   ]
  },
  {
   "cell_type": "code",
   "execution_count": null,
   "metadata": {},
   "outputs": [],
   "source": [
    "s = Solver()\n",
    "s.add(And(loan > 3, loan < 10))\n",
    "if s.check() == sat:\n",
    "    print (s.model())\n",
    "else:\n",
    "        print(\"Not found\")"
   ]
  },
  {
   "cell_type": "code",
   "execution_count": null,
   "metadata": {},
   "outputs": [],
   "source": []
  },
  {
   "cell_type": "code",
   "execution_count": null,
   "metadata": {},
   "outputs": [],
   "source": [
    "s.add()"
   ]
  },
  {
   "cell_type": "markdown",
   "metadata": {},
   "source": []
  },
  {
   "cell_type": "code",
   "execution_count": 3,
   "metadata": {
    "scrolled": true
   },
   "outputs": [
    {
     "name": "stdout",
     "output_type": "stream",
     "text": [
      "(?P<accessedObject>([A-Za-z]+[A-Za-z0-9_]*))[(](?P<p1>([A-Za-z]+[A-Za-z0-9_]*))[)]\n",
      "<re.Match object; span=(0, 34), match='CiprianPaduraru0123.access(param1)'>\n",
      "(0, 34)\n",
      "CiprianPaduraru0123 access param1\n"
     ]
    }
   ],
   "source": [
    "import re\n",
    "\n",
    "pattern_variable = \"([A-Za-z]+[A-Za-z0-9_]*)\"\n",
    "\n",
    "pattern_functioncall = \"(?P<accessedObject>\"+pattern_variable+\")\" + \"[(]\" + \"(?P<p1>\"+pattern_variable+\")\"+\"[)]\"\n",
    "print(pattern_functioncall)\n",
    "\n",
    "#?P<accessedObject>\"\n",
    "#+\"?P<param1>\"\n",
    "\n",
    "pattern_objectaccess = '(?P<objName>'+pattern_variable+')' + \"[.]\" + pattern_functioncall #\"(\"+pattern_variable + \"|\" + pattern_functioncall+\")\"\n",
    "string = \"CiprianPaduraru0123.access(param1)\"\n",
    "result = re.match(pattern_objectaccess, string)\n",
    "if result != None:\n",
    "    print(result)\n",
    "    #print(result)\n",
    "    #print(result.groups())\n",
    "    print(result.span())\n",
    "    #print(result.groups())\n",
    "    print(result.group('objName'), result.group('accessedObject'), result.group('p1'))\n",
    "\n"
   ]
  },
  {
   "cell_type": "code",
   "execution_count": null,
   "metadata": {},
   "outputs": [],
   "source": []
  },
  {
   "cell_type": "code",
   "execution_count": null,
   "metadata": {},
   "outputs": [],
   "source": [
    "m = re.search('(?P<w1>\\w+),(?P<w2>\\w+),(?P<w3>\\w+)', 'foo,quux,baz')\n",
    "m.groups()\n",
    "m.group('w3')\n"
   ]
  },
  {
   "cell_type": "code",
   "execution_count": null,
   "metadata": {},
   "outputs": [],
   "source": [
    "txt = \"Sent from my 123\"\n",
    "re.match(\"Sent from my (\" + \"[A-Za-z]+\" + \"|\" + \"[0-9_]+\" + \")\", txt)"
   ]
  },
  {
   "cell_type": "code",
   "execution_count": null,
   "metadata": {},
   "outputs": [],
   "source": [
    "patt_test = '(' + \"?P<w1>\" + \"\\w+\" +')'\n",
    "print(patt_test)\n",
    "\n",
    "string = \"CiprianPaduraru0123.access(param1)\"\n",
    "result = re.match(patt_test, string)\n",
    "print(result)"
   ]
  }
 ],
 "metadata": {
  "kernelspec": {
   "display_name": "Python 3",
   "language": "python",
   "name": "python3"
  },
  "language_info": {
   "codemirror_mode": {
    "name": "ipython",
    "version": 3
   },
   "file_extension": ".py",
   "mimetype": "text/x-python",
   "name": "python",
   "nbconvert_exporter": "python",
   "pygments_lexer": "ipython3",
   "version": "3.7.3"
  }
 },
 "nbformat": 4,
 "nbformat_minor": 4
}
