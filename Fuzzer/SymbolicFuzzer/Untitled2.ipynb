{
 "cells": [
  {
   "cell_type": "code",
   "execution_count": 2,
   "metadata": {},
   "outputs": [
    {
     "name": "stdout",
     "output_type": "stream",
     "text": [
      "An example of accessing the variables inside the nodes...\n",
      "['loan']\n",
      "loanTest1 (loan<1000)\n",
      "Graph nodes: \n",
      "loanTest1 (loan<1000)\n",
      "loanTest2 ((loan>=1000)and(loan<=1000))\n",
      "termTest (term<5)\n",
      "Graph edges: \n",
      "start from loanTest1 end loanTest2\n",
      "start from loanTest1 end termTest\n",
      "start from loanTest2 end termTest\n",
      "In Degrees:  [(<__main__.BranchNode object at 0x7fe052b71be0>, 0), (<__main__.BranchNode object at 0x7fe052bb6518>, 1), (<__main__.BranchNode object at 0x7fe0536d3d68>, 2)]\n",
      "Out Degrees:  [(<__main__.BranchNode object at 0x7fe052b71be0>, 2), (<__main__.BranchNode object at 0x7fe052bb6518>, 1), (<__main__.BranchNode object at 0x7fe0536d3d68>, 0)]\n"
     ]
    }
   ],
   "source": [
    "# Example of graph creation - bank loan example, and inspecting the graph..\n",
    "# pip install networkx\n",
    "\n",
    "from py_expression_eval import Parser # Not used at the moment but might be good !\n",
    "parser = Parser()\n",
    "import copy\n",
    "import networkx\n",
    "\n",
    "# Examples of node creation\n",
    "class BranchNode():  # Just an example of a base class\n",
    "    def __init__(self, name : str, condition : str):\n",
    "        self.expression = Parser().parse(condition)\n",
    "        self.valuesAndNext : Dict[str, str] = {} # A dictionary from expression value to next branch\n",
    "        self.name = name\n",
    "        \n",
    "    def getVariables(self):\n",
    "        return self.expression.variables()\n",
    "    \n",
    "    def __str__(self):\n",
    "        return self.name + \" \" + str(self.expression)\n",
    "        \n",
    "\n",
    "A = BranchNode('loanTest1', 'loan < 1000')\n",
    "B = BranchNode('loanTest2', 'loan >= 1000 and loan <= 1000')\n",
    "C = BranchNode('termTest', 'term < 5')\n",
    "\n",
    "print(\"An example of accessing the variables inside the nodes...\")\n",
    "print(str(A.getVariables()))\n",
    "\n",
    "print(A)\n",
    "\n",
    "\n",
    "import networkx as nx\n",
    "graph = nx.DiGraph()\n",
    "graph.clear()\n",
    "graph.graph['modelName'] = \"Bank Loan\"\n",
    "\n",
    "graph.add_node(A)\n",
    "graph.add_node(B)\n",
    "graph.add_node(C)\n",
    "\n",
    "graph.add_edge(A,B)\n",
    "graph.add_edge(A,C)\n",
    "graph.add_edge(B,C)\n",
    "\n",
    "\n",
    "def debugInspectGraph():\n",
    "    print(\"Graph nodes: \")\n",
    "    for node in graph.nodes:\n",
    "        print(node)\n",
    "\n",
    "    print(\"Graph edges: \")\n",
    "    for edge in graph.edges:\n",
    "        start = edge[0]\n",
    "        end = edge[1]\n",
    "        print(f\"start from {start.name} end {end.name}\")\n",
    "\n",
    "    print(\"In Degrees: \", graph.in_degree([node for node in graph.nodes]))\n",
    "    print(\"Out Degrees: \", graph.out_degree([node for node in graph.nodes]))\n",
    "    \n",
    "debugInspectGraph()"
   ]
  },
  {
   "cell_type": "code",
   "execution_count": 9,
   "metadata": {},
   "outputs": [
    {
     "data": {
      "image/png": "[encoded data removed]",
      "text/plain": [
       "<Figure size 432x288 with 1 Axes>"
      ]
     },
     "metadata": {},
     "output_type": "display_data"
    }
   ],
   "source": [
    "import matplotlib as plt\n",
    "G = nx.dodecahedral_graph()\n",
    "nx.draw_networkx(graph)\n",
    "#nx.draw(graph, pos=nx.spring_layout(graph))  # use spring layout\n",
    "plt.pyplot.show()"
   ]
  },
  {
   "cell_type": "code",
   "execution_count": null,
   "outputs": [],
   "source": [],
   "metadata": {
    "collapsed": false,
    "pycharm": {
     "name": "#%%\n"
    }
   }
  },
  {
   "cell_type": "code",
   "execution_count": null,
   "metadata": {},
   "outputs": [],
   "source": []
  },
  {
   "cell_type": "code",
   "execution_count": null,
   "metadata": {},
   "outputs": [],
   "source": []
  }
 ],
 "metadata": {
  "kernelspec": {
   "display_name": "Python 3",
   "language": "python",
   "name": "python3"
  },
  "language_info": {
   "codemirror_mode": {
    "name": "ipython",
    "version": 3
   },
   "file_extension": ".py",
   "mimetype": "text/x-python",
   "name": "python",
   "nbconvert_exporter": "python",
   "pygments_lexer": "ipython3",
   "version": "3.7.3"
  }
 },
 "nbformat": 4,
 "nbformat_minor": 4
}