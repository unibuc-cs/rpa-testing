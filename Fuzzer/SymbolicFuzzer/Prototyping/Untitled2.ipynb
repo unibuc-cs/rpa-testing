{
 "cells": [
  {
   "cell_type": "code",
   "execution_count": null,
   "metadata": {},
   "outputs": [],
   "source": [
    "# Example of graph creation - bank loan example, and inspecting the graph..\n",
    "# pip install networkx\n",
    "\n",
    "from py_expression_eval import Parser # Not used at the moment but might be good !\n",
    "parser = Parser()\n",
    "import copy\n",
    "import networkx\n",
    "\n",
    "# Examples of node creation\n",
    "class BranchNode():  # Just an example of a base class\n",
    "    def __init__(self, name : str, condition : str):\n",
    "        self.expression = Parser().parse(condition)\n",
    "        self.valuesAndNext : Dict[str, str] = {} # A dictionary from expression value to next branch\n",
    "        self.name = name\n",
    "        \n",
    "    def getVariables(self):\n",
    "        return self.expression.variables()\n",
    "    \n",
    "    def __str__(self):\n",
    "        return self.name + \" \" + str(self.expression)\n",
    "        \n",
    "\n",
    "A = BranchNode('loanTest1', 'loan < 1000')\n",
    "B = BranchNode('loanTest2', 'loan >= 1000 and loan <= 1000')\n",
    "C = BranchNode('termTest', 'term < 5')\n",
    "\n",
    "print(\"An example of accessing the variables inside the nodes...\")\n",
    "print(str(A.getVariables()))\n",
    "\n",
    "print(A)\n",
    "\n",
    "\n",
    "import networkx as nx\n",
    "graph = nx.DiGraph()\n",
    "graph.clear()\n",
    "graph.graph['modelName'] = \"Bank Loan\"\n",
    "\n",
    "graph.add_node(A)\n",
    "graph.add_node(B)\n",
    "graph.add_node(C)\n",
    "\n",
    "graph.add_edge(A,B)\n",
    "graph.add_edge(A,C)\n",
    "graph.add_edge(B,C)\n",
    "\n",
    "\n",
    "def debugInspectGraph():\n",
    "    print(\"Graph nodes: \")\n",
    "    for node in graph.nodes:\n",
    "        print(node)\n",
    "\n",
    "    print(\"Graph edges: \")\n",
    "    for edge in graph.edges:\n",
    "        start = edge[0]\n",
    "        end = edge[1]\n",
    "        print(f\"start from {start.name} end {end.name}\")\n",
    "\n",
    "    print(\"In Degrees: \", graph.in_degree([node for node in graph.nodes]))\n",
    "    print(\"Out Degrees: \", graph.out_degree([node for node in graph.nodes]))\n",
    "    \n",
    "debugInspectGraph()"
   ]
  },
  {
   "cell_type": "code",
   "execution_count": null,
   "metadata": {},
   "outputs": [],
   "source": [
    "import matplotlib as plt\n",
    "G = nx.dodecahedral_graph()\n",
    "nx.draw_networkx(graph)\n",
    "#nx.draw(graph, pos=nx.spring_layout(graph))  # use spring layout\n",
    "plt.pyplot.show()"
   ]
  },
  {
   "cell_type": "code",
   "execution_count": null,
   "metadata": {
    "pycharm": {
     "name": "#%%\n"
    }
   },
   "outputs": [],
   "source": [
    "#pip install Z3str3 "
   ]
  },
  {
   "cell_type": "code",
   "execution_count": null,
   "metadata": {},
   "outputs": [],
   "source": [
    "import z3\n",
    "from z3 import *\n",
    "print (z3.get_version_string())\n",
    "\n",
    "s = Solver()\n",
    "x = String('x')\n",
    "y = String('y')\n",
    "z = String('z')\n",
    "s.add(And(Length(x) < 25,Length(y) > 2))\n",
    "s.add(z == StringVal(\"paduraru\"))\n",
    "#s.add(x[0] != StringVal('\\\\x00'))\n",
    "s.add(x == y + StringVal(\" \") + z )\n",
    "s.add(y == StringVal(\"ciprian\"))\n",
    "print (s.sexpr())\n",
    "\n",
    "s.set('timeout', 5000)\n",
    "if s.check() == z3.sat:\n",
    "    print (s.model())\n",
    "else:\n",
    "    print ('unsat')\n",
    "    \n"
   ]
  },
  {
   "cell_type": "code",
   "execution_count": null,
   "metadata": {},
   "outputs": [],
   "source": [
    "strCond = \"x == StringVal('ciprian')\"\n",
    "cond = eval(strCond)\n",
    "print(cond)"
   ]
  },
  {
   "cell_type": "code",
   "execution_count": null,
   "metadata": {},
   "outputs": [],
   "source": [
    "from z3 import *"
   ]
  },
  {
   "cell_type": "code",
   "execution_count": null,
   "metadata": {},
   "outputs": [],
   "source": [
    "V = {}\n",
    "V[\"X::X\"]= Int(\"X::X\")\n",
    "V[\"X\"] = Int(\"X\")\n",
    "V[\"B\"] = Bool(\"B\")\n",
    "V[\"StrVar\"] = String(\"StrVar\")\n"
   ]
  },
  {
   "cell_type": "code",
   "execution_count": null,
   "metadata": {},
   "outputs": [],
   "source": [
    "s = Solver()\n",
    "s.add(V[\"X\"] + V[\"X::X\"] == 3)\n",
    "s.add(V[\"X\"] == 10)\n",
    "s.add(V[\"B\"] == True)\n",
    "s.add(V[\"StrVar\"] ==  \"Ciprian\")\n",
    "if s.check() == sat:\n",
    "    print (s.model())\n",
    "else:\n",
    "        print(\"Not found\")"
   ]
  },
  {
   "cell_type": "code",
   "execution_count": null,
   "metadata": {},
   "outputs": [],
   "source": [
    "loan = Int('Main:Low_-_Volume_loan')"
   ]
  },
  {
   "cell_type": "code",
   "execution_count": null,
   "metadata": {},
   "outputs": [],
   "source": [
    "s = Solver()\n",
    "s.add(And(loan > 3, loan < 10))\n",
    "if s.check() == sat:\n",
    "    print (s.model())\n",
    "else:\n",
    "        print(\"Not found\")"
   ]
  },
  {
   "cell_type": "code",
   "execution_count": null,
   "metadata": {},
   "outputs": [],
   "source": []
  },
  {
   "cell_type": "code",
   "execution_count": null,
   "metadata": {},
   "outputs": [],
   "source": [
    "s.add()"
   ]
  },
  {
   "cell_type": "code",
   "execution_count": null,
   "metadata": {},
   "outputs": [],
   "source": [
    "s = \"tim email is t32im@someho32st.com\"\n",
    "match = re.search('[\\w.]+@[\\w.-]+', s)\n",
    "print(match)"
   ]
  },
  {
   "cell_type": "code",
   "execution_count": null,
   "metadata": {
    "scrolled": true
   },
   "outputs": [],
   "source": [
    "import re\n",
    "\n",
    "pattern_variable = \"([A-Za-z]+[A-Za-z0-9_]*)\"\n",
    "param1_variable = \"(?P<p1>\"+pattern_variable+\")\"\n",
    "pattern_float_or_int = r\"[-+]?(\\d*\\.\\d+)|(\\d+)\" #, \"Current Level: -13.2 db or 14.2 or 3\")\n",
    "\n",
    "\n",
    "\n",
    "pattern_functioncall_oneparam_variable = \"(?P<func>\"+pattern_variable+\")\" + \"[(]\" + param1_variable +\"[)]\"\n",
    "print(pattern_functioncall)\n",
    "\n",
    "pattern_functioncall_oneparam_constantnumber = \"(?P<func>\"+pattern_variable+\")\" + \"[(]\" + pattern_float_or_int +\"[)]\"\n",
    "print(pattern_functioncall_oneparam_constantnumber)\n",
    "\n",
    "#?P<accessedObject>\"\n",
    "#+\"?P<param1>\"\n",
    "\n",
    "pattern_object_call_oneparam_variable = '(?P<objName>'+pattern_variable+')' + \"[.]\" + pattern_functioncall_oneparamvariable #\"(\"+pattern_variable + \"|\" + pattern_functioncall+\")\"\n",
    "pattern_object_call_oneparam_constantnumber = '(?P<objName>'+pattern_variable+')' + \"[.]\" + pattern_functioncall_oneparam_constantnumber #\"(\"+pattern_variable + \"|\" + pattern_functioncall+\")\"\n",
    "\n",
    "string_test1 = \"CiprianPaduraru0123.access(param1)\"\n",
    "result_test1 = re.match(pattern_object_call_oneparam_variable, string_test1)\n",
    "if result_test1 != None:\n",
    "    print(result_test1)\n",
    "    print(result_test1.group('objName'), result_test1.group('objName'), result_test1.group('p1'))\n",
    "\n",
    "\n",
    "string_test2 = pattern_functioncall_oneparam_constantnumber  #\"CiprianPaduraru0123.access(123.43)\"\n",
    "result_test2 = re.match(pattern_functioncall_oneparam_constantnumber, string_test2)\n",
    "if result_test2 != None:\n",
    "    print(result_test2)\n",
    "    print(result_test2.group('objName'), result_test2.group('objName'), result_test2.group('p1'))\n",
    "\n",
    "\n",
    "print(re.match(pattern_functioncall_oneparam_constantnumber, \"func(-132)\"))\n",
    "print(re.match(pattern_float_or_int, \"(-132)\"))\n",
    "         "
   ]
  },
  {
   "cell_type": "code",
   "execution_count": null,
   "metadata": {},
   "outputs": [],
   "source": [
    "pattern_float_or_int=r\"[-+]?\" + \"\\(\\d+.\\d+\\)\" + \"|\" + \"(\\d+\\\\])\"\n",
    "print(re.match(pattern_float_or_int, \"(-132.32)\"))"
   ]
  },
  {
   "cell_type": "code",
   "execution_count": 8,
   "metadata": {},
   "outputs": [
    {
     "name": "stdout",
     "output_type": "stream",
     "text": [
      "<_ast.Attribute object at 0x7f9b3434aa90>\n",
      "a.b.method\n",
      "<_ast.Name object at 0x7f9b3436c1d0>\n",
      "foo\n",
      "<_ast.Attribute object at 0x7f9b34440240>\n",
      "xtime.time\n",
      "<_ast.Attribute object at 0x7f9b34440208>\n",
      "q.y\n",
      "<_ast.Attribute object at 0x7f9b34440668>\n",
      "x.m\n"
     ]
    }
   ],
   "source": [
    "import ast \n",
    "\n",
    "class ParseCall(ast.NodeVisitor):\n",
    "    def __init__(self):\n",
    "        self.ls = []\n",
    "    def visit_Attribute(self, node):\n",
    "        ast.NodeVisitor.generic_visit(self, node)\n",
    "        self.ls.append(node.attr)\n",
    "    def visit_Name(self, node):\n",
    "        self.ls.append(node.id)\n",
    "\n",
    "\n",
    "class FindFuncs(ast.NodeVisitor):\n",
    "    def visit_Call(self, node):\n",
    "        p = ParseCall()\n",
    "        print(node.func)\n",
    "        p.visit(node.func)\n",
    "        print (\".\".join(p.ls))\n",
    "        ast.NodeVisitor.generic_visit(self, node)\n",
    "\n",
    "\n",
    "code = 'something = a.b.method(foo() + xtime.time(), var=1) + q.y(x.m())'\n",
    "tree = ast.parse(code)\n",
    "FindFuncs().visit(tree)\n"
   ]
  },
  {
   "cell_type": "code",
   "execution_count": null,
   "metadata": {},
   "outputs": [],
   "source": []
  },
  {
   "cell_type": "code",
   "execution_count": null,
   "metadata": {},
   "outputs": [],
   "source": []
  }
 ],
 "metadata": {
  "kernelspec": {
   "display_name": "Python 3 (ipykernel)",
   "language": "python",
   "name": "python3"
  },
  "language_info": {
   "codemirror_mode": {
    "name": "ipython",
    "version": 3
   },
   "file_extension": ".py",
   "mimetype": "text/x-python",
   "name": "python",
   "nbconvert_exporter": "python",
   "pygments_lexer": "ipython3",
   "version": "3.8.5"
  }
 },
 "nbformat": 4,
 "nbformat_minor": 4
}
