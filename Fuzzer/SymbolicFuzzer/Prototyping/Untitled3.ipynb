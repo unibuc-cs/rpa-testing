{
 "cells": [
  {
   "cell_type": "code",
   "execution_count": 1,
   "metadata": {},
   "outputs": [],
   "source": [
    "from z3 import *\n"
   ]
  },
  {
   "cell_type": "code",
   "execution_count": 3,
   "metadata": {},
   "outputs": [
    {
     "name": "stdout",
     "output_type": "stream",
     "text": [
      "x[0] + x[1] + x[2] >= 0\n"
     ]
    }
   ],
   "source": [
    "X = Array('x', IntSort(), IntSort())\n",
    "print (X[0] + X[1] + X[2] >= 0)"
   ]
  },
  {
   "cell_type": "code",
   "execution_count": 11,
   "metadata": {},
   "outputs": [
    {
     "name": "stdout",
     "output_type": "stream",
     "text": [
      "x__0 + x__1 + x__2 >= 1\n"
     ]
    }
   ],
   "source": [
    "# 2. More efficient solution\n",
    "X = IntVector('x', 3)\n",
    "print (X[0] + X[1] + X[2] >= 1)\n",
    "#print (x__0 + x__1 + x__2) >= 0\n",
    "#print (Sum(X)) >= 0\n"
   ]
  },
  {
   "cell_type": "code",
   "execution_count": 13,
   "metadata": {},
   "outputs": [
    {
     "name": "stdout",
     "output_type": "stream",
     "text": [
      "[A = Store(K(Int, 2), 0, 0), y = 0, x = 0]\n"
     ]
    }
   ],
   "source": [
    "A = Array('A', IntSort(), IntSort())\n",
    "x, y = Ints('x y')\n",
    "solve (A[x] == x, Store(A, x, y) == A)\n"
   ]
  },
  {
   "cell_type": "code",
   "execution_count": null,
   "metadata": {},
   "outputs": [],
   "source": []
  }
 ],
 "metadata": {
  "kernelspec": {
   "display_name": "Python 3",
   "language": "python",
   "name": "python3"
  },
  "language_info": {
   "codemirror_mode": {
    "name": "ipython",
    "version": 3
   },
   "file_extension": ".py",
   "mimetype": "text/x-python",
   "name": "python",
   "nbconvert_exporter": "python",
   "pygments_lexer": "ipython3",
   "version": "3.7.3"
  }
 },
 "nbformat": 4,
 "nbformat_minor": 4
}
