{
 "cells": [
  {
   "cell_type": "code",
   "execution_count": 1,
   "id": "a7c942f7",
   "metadata": {},
   "outputs": [],
   "source": [
    "import re"
   ]
  },
  {
   "cell_type": "code",
   "execution_count": 18,
   "id": "855bd362",
   "metadata": {},
   "outputs": [
    {
     "name": "stdout",
     "output_type": "stream",
     "text": [
      "variable\n",
      "dataTable\n"
     ]
    }
   ],
   "source": [
    "str = 'for variable in dataTable'\n",
    "\n",
    "var_pattern = '([a-zA-Z0-9_]+)'\n",
    "match = re.search(r'[\\s]*for[\\s]+var_pattern[\\s]+in[\\s]+'+ var_pattern, str)\n",
    "\n",
    "if match:   \n",
    "    for groupId in match.groups():\n",
    "        print(f\"{groupId}\")\n"
   ]
  },
  {
   "cell_type": "code",
   "execution_count": null,
   "id": "22b5cbdd",
   "metadata": {},
   "outputs": [],
   "source": []
  }
 ],
 "metadata": {
  "kernelspec": {
   "display_name": "Python 3",
   "language": "python",
   "name": "python3"
  },
  "language_info": {
   "codemirror_mode": {
    "name": "ipython",
    "version": 3
   },
   "file_extension": ".py",
   "mimetype": "text/x-python",
   "name": "python",
   "nbconvert_exporter": "python",
   "pygments_lexer": "ipython3",
   "version": "3.7.10"
  }
 },
 "nbformat": 4,
 "nbformat_minor": 5
}
