{
 "cells": [
  {
   "cell_type": "code",
   "execution_count": 1,
   "id": "65cff5a1",
   "metadata": {},
   "outputs": [],
   "source": [
    "import re"
   ]
  },
  {
   "cell_type": "code",
   "execution_count": 60,
   "id": "c180c695",
   "metadata": {},
   "outputs": [
    {
     "name": "stdout",
     "output_type": "stream",
     "text": [
      "dataInput\n",
      "CurrentRow\n"
     ]
    }
   ],
   "source": [
    "str = 'for variable in dataTable'\n",
    "str = 'for CurrentRow in dataInput' #'for variable in range()'#dataTable'\n",
    "\n",
    "\n",
    "var_pattern_iterObject = '(?P<iteratedObject>(range\\([^()]*\\))|[a-zA-Z0-9_]+)'\n",
    "var_pattern_iterVar = '(?P<iteratorName>[a-zA-Z0-9_]+)'\n",
    "match = re.search(f'[\\s]*for[\\s]+{var_pattern_iterVar}[\\s]+in[\\s]+{var_pattern_iterObject}', str)\n",
    "\n",
    "if match:   \n",
    "    print(match.group('iteratedObject'))\n",
    "    print(match.group('iteratorName'))\n",
    "    if False:\n",
    "        for groupId in match.groups():\n",
    "            print(f\"{groupId}\")\n",
    "else:\n",
    "    print(\"not\")\n"
   ]
  },
  {
   "cell_type": "code",
   "execution_count": 57,
   "id": "db5632f3",
   "metadata": {},
   "outputs": [
    {
     "name": "stdout",
     "output_type": "stream",
     "text": [
      "Email address: support@datacamp.com\n",
      "Username: support\n",
      "Host: datacamp.com\n"
     ]
    }
   ],
   "source": [
    "statement = 'Please contact us at: support@datacamp.com'\n",
    "match = re.search(r'(?P<email>(?P<username>[\\w\\.-]+)@(?P<host>[\\w\\.-]+))', statement)\n",
    "if statement:\n",
    "  print(\"Email address:\", match.group('email'))\n",
    "  print(\"Username:\", match.group('username'))\n",
    "  print(\"Host:\", match.group('host'))"
   ]
  },
  {
   "cell_type": "code",
   "execution_count": null,
   "id": "3f674498",
   "metadata": {},
   "outputs": [],
   "source": []
  }
 ],
 "metadata": {
  "kernelspec": {
   "display_name": "Python 3",
   "language": "python",
   "name": "python3"
  },
  "language_info": {
   "codemirror_mode": {
    "name": "ipython",
    "version": 3
   },
   "file_extension": ".py",
   "mimetype": "text/x-python",
   "name": "python",
   "nbconvert_exporter": "python",
   "pygments_lexer": "ipython3",
   "version": "3.7.10"
  }
 },
 "nbformat": 4,
 "nbformat_minor": 5
}
