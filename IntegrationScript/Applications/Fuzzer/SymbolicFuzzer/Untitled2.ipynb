{
 "cells": [
  {
   "cell_type": "code",
   "execution_count": null,
   "metadata": {},
   "outputs": [],
   "source": [
    "# Example of graph creation - bank loan example, and inspecting the graph..\n",
    "# pip install networkx\n",
    "\n",
    "from py_expression_eval import Parser # Not used at the moment but might be good !\n",
    "parser = Parser()\n",
    "import copy\n",
    "import networkx\n",
    "\n",
    "# Examples of node creation\n",
    "class BranchNode():  # Just an example of a base class\n",
    "    def __init__(self, name : str, condition : str):\n",
    "        self.expression = Parser().parse(condition)\n",
    "        self.valuesAndNext : Dict[str, str] = {} # A dictionary from expression value to next branch\n",
    "        self.name = name\n",
    "        \n",
    "    def getVariables(self):\n",
    "        return self.expression.variables()\n",
    "    \n",
    "    def __str__(self):\n",
    "        return self.name + \" \" + str(self.expression)\n",
    "        \n",
    "\n",
    "A = BranchNode('loanTest1', 'loan < 1000')\n",
    "B = BranchNode('loanTest2', 'loan >= 1000 and loan <= 1000')\n",
    "C = BranchNode('termTest', 'term < 5')\n",
    "\n",
    "print(\"An example of accessing the variables inside the nodes...\")\n",
    "print(str(A.getVariables()))\n",
    "\n",
    "print(A)\n",
    "\n",
    "\n",
    "import networkx as nx\n",
    "graph = nx.DiGraph()\n",
    "graph.clear()\n",
    "graph.graph['modelName'] = \"Bank Loan\"\n",
    "\n",
    "graph.add_node(A)\n",
    "graph.add_node(B)\n",
    "graph.add_node(C)\n",
    "\n",
    "graph.add_edge(A,B)\n",
    "graph.add_edge(A,C)\n",
    "graph.add_edge(B,C)\n",
    "\n",
    "\n",
    "def debugInspectGraph():\n",
    "    print(\"Graph nodes: \")\n",
    "    for node in graph.nodes:\n",
    "        print(node)\n",
    "\n",
    "    print(\"Graph edges: \")\n",
    "    for edge in graph.edges:\n",
    "        start = edge[0]\n",
    "        end = edge[1]\n",
    "        print(f\"start from {start.name} end {end.name}\")\n",
    "\n",
    "    print(\"In Degrees: \", graph.in_degree([node for node in graph.nodes]))\n",
    "    print(\"Out Degrees: \", graph.out_degree([node for node in graph.nodes]))\n",
    "    \n",
    "debugInspectGraph()"
   ]
  },
  {
   "cell_type": "code",
   "execution_count": null,
   "metadata": {},
   "outputs": [],
   "source": [
    "import matplotlib as plt\n",
    "G = nx.dodecahedral_graph()\n",
    "nx.draw_networkx(graph)\n",
    "#nx.draw(graph, pos=nx.spring_layout(graph))  # use spring layout\n",
    "plt.pyplot.show()"
   ]
  },
  {
   "cell_type": "code",
   "execution_count": null,
   "metadata": {
    "pycharm": {
     "name": "#%%\n"
    }
   },
   "outputs": [],
   "source": [
    "#pip install Z3str3 "
   ]
  },
  {
   "cell_type": "code",
   "execution_count": 19,
   "metadata": {},
   "outputs": [
    {
     "name": "stdout",
     "output_type": "stream",
     "text": [
      "4.8.10\n",
      "(declare-fun y () String)\n",
      "(declare-fun x () String)\n",
      "(declare-fun z () String)\n",
      "(assert (and (< (str.len x) 25) (> (str.len y) 2)))\n",
      "(assert (= z \"paduraru\"))\n",
      "(assert (= x (str.++ y \" \" z)))\n",
      "(assert (= y \"ciprian\"))\n",
      "\n",
      "[y = \"ciprian\", x = \"ciprian paduraru\", z = \"paduraru\"]\n"
     ]
    }
   ],
   "source": [
    "import z3\n",
    "from z3 import *\n",
    "print (z3.get_version_string())\n",
    "\n",
    "s = Solver()\n",
    "x = String('x')\n",
    "y = String('y')\n",
    "z = String('z')\n",
    "s.add(And(Length(x) < 25,Length(y) > 2))\n",
    "s.add(z == StringVal(\"paduraru\"))\n",
    "#s.add(x[0] != StringVal('\\\\x00'))\n",
    "s.add(x == y + StringVal(\" \") + z )\n",
    "s.add(y == StringVal(\"ciprian\"))\n",
    "print (s.sexpr())\n",
    "\n",
    "s.set('timeout', 5000)\n",
    "if s.check() == z3.sat:\n",
    "    print (s.model())\n",
    "else:\n",
    "    print ('unsat')\n",
    "    \n"
   ]
  },
  {
   "cell_type": "code",
   "execution_count": 20,
   "metadata": {},
   "outputs": [
    {
     "name": "stdout",
     "output_type": "stream",
     "text": [
      "x == \"ciprian\"\n"
     ]
    }
   ],
   "source": [
    "strCond = \"x == StringVal('ciprian')\"\n",
    "cond = eval(strCond)\n",
    "print(cond)"
   ]
  },
  {
   "cell_type": "code",
   "execution_count": null,
   "metadata": {},
   "outputs": [],
   "source": [
    "from z3 import *"
   ]
  },
  {
   "cell_type": "code",
   "execution_count": null,
   "metadata": {},
   "outputs": [],
   "source": [
    "V = {}\n",
    "V[\"X::X\"]= Int(\"X::X\")\n",
    "V[\"X\"] = Int(\"X\")\n",
    "V[\"B\"] = Bool(\"B\")\n",
    "V[\"StrVar\"] = String(\"StrVar\")\n"
   ]
  },
  {
   "cell_type": "code",
   "execution_count": null,
   "metadata": {},
   "outputs": [],
   "source": [
    "s = Solver()\n",
    "s.add(V[\"X\"] + V[\"X::X\"] == 3)\n",
    "s.add(V[\"X\"] == 10)\n",
    "s.add(V[\"B\"] == True)\n",
    "s.add(V[\"StrVar\"] ==  \"Ciprian\")\n",
    "if s.check() == sat:\n",
    "    print (s.model())\n",
    "else:\n",
    "        print(\"Not found\")"
   ]
  },
  {
   "cell_type": "code",
   "execution_count": null,
   "metadata": {},
   "outputs": [],
   "source": [
    "loan = Int('Main:Low_-_Volume_loan')"
   ]
  },
  {
   "cell_type": "code",
   "execution_count": null,
   "metadata": {},
   "outputs": [],
   "source": [
    "s = Solver()\n",
    "s.add(And(loan > 3, loan < 10))\n",
    "if s.check() == sat:\n",
    "    print (s.model())\n",
    "else:\n",
    "        print(\"Not found\")"
   ]
  },
  {
   "cell_type": "code",
   "execution_count": null,
   "metadata": {},
   "outputs": [],
   "source": []
  },
  {
   "cell_type": "code",
   "execution_count": null,
   "metadata": {},
   "outputs": [],
   "source": [
    "s.add()"
   ]
  }
 ],
 "metadata": {
  "kernelspec": {
   "display_name": "Python 3",
   "language": "python",
   "name": "python3"
  },
  "language_info": {
   "codemirror_mode": {
    "name": "ipython",
    "version": 3
   },
   "file_extension": ".py",
   "mimetype": "text/x-python",
   "name": "python",
   "nbconvert_exporter": "python",
   "pygments_lexer": "ipython3",
   "version": "3.7.0"
  }
 },
 "nbformat": 4,
 "nbformat_minor": 4
}
