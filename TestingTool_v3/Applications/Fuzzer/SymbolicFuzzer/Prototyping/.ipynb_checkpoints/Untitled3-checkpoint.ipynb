{
 "cells": [
  {
   "cell_type": "code",
   "execution_count": null,
   "metadata": {},
   "outputs": [],
   "source": [
    "from z3 import *\n"
   ]
  },
  {
   "cell_type": "code",
   "execution_count": null,
   "metadata": {},
   "outputs": [],
   "source": [
    "# Funciton Finding\n",
    "f = Function('f', IntSort(), IntSort(), IntSort())\n",
    "x, y = Ints('x y')\n",
    "print (ForAll([x, y], f(x, y) == 0))\n",
    "print (Exists(x, f(x, x) >= 0))\n",
    "\n",
    "a, b = Ints('a b')\n",
    "solve(ForAll(x, f(x, x) == 0), a-b == 10, f(a, b) == 1)\n"
   ]
  },
  {
   "cell_type": "code",
   "execution_count": 6,
   "metadata": {
    "scrolled": true
   },
   "outputs": [
    {
     "name": "stdout",
     "output_type": "stream",
     "text": [
      "A=[8, 7, 6, 5, 4, 3, 2, 1, 0, 0]\n",
      "S=[0, 1, 2, 3, 4, 5, 6, 7, 8, 8]\n"
     ]
    }
   ],
   "source": [
    "# Problem : BOUNDED ARRAYS STORY\n",
    "#I need to have a duplicate Vector with the same values but the duplicate having a different order. \n",
    "# Using bags, conditions on each item, store\n",
    "# INdices limits and so one\n",
    "# Sorted vector !\n",
    "\n",
    "from z3 import *\n",
    "s = Solver()\n",
    "SIZE = 10\n",
    "\n",
    "a = IntVector('A', SIZE)\n",
    "sortedA = IntVector('S', SIZE)\n",
    "\n",
    "# assert that sortedA is sorted\n",
    "for i in range(SIZE-1):\n",
    "    s.add(sortedA[i] <= sortedA[i+1])\n",
    "    \n",
    "# convert them to bags - stores the multiplicity of each element you store in it\n",
    "bagA = K(IntSort(), 0)\n",
    "bagS = K(IntSort(), 0)\n",
    "for i in range(SIZE-1):\n",
    "    bagA = Store(bagA, a[i], 1 + Select(bagA, a[i]))\n",
    "    bagS = Store(bagS, sortedA[i], 1 + Select(bagS, sortedA[i]))\n",
    "    \n",
    "# assert that the bags are the same \n",
    "s.add(bagA == bagS)\n",
    "\n",
    "# Some random constraints\n",
    "s.add(a[3] == 5)\n",
    "s.add(a[3] > a[9])\n",
    "s.add(a[1] > a[3])\n",
    "s.add(a[0] > a[2])\n",
    "\n",
    "\n",
    "# THIS WORKS FOR UNBOUNDED ARRAY\n",
    "#x, y = Ints('x y')\n",
    "#s.add(ForAll(x, And(a[x] >= 3,a[x] <= 10)))\n",
    "\n",
    "for i in range(SIZE-1):\n",
    "    s.add(And(a[i] >= a[i+1]))\n",
    "\n",
    "for i in range(SIZE-1):\n",
    "    s.add(And(a[i] >=0, a[i] <= 10))\n",
    "\n",
    "# get and print the model\n",
    "r = s.check()\n",
    "if r == sat:\n",
    "    m = s.model()\n",
    "    finalA = []\n",
    "    finalS = []\n",
    "    for i in range(SIZE):\n",
    "        finalA.append(m.evaluate(a[i], model_completion=True))\n",
    "        finalS.append(m.evaluate(sortedA[i], model_completion=True))\n",
    "    print(\"A=%s\" % finalA)\n",
    "    print(\"S=%s\" % finalS)\n",
    "else:\n",
    "    print(f\"Solver said: {r}\")\n",
    "    "
   ]
  },
  {
   "cell_type": "code",
   "execution_count": 16,
   "metadata": {},
   "outputs": [
    {
     "name": "stdout",
     "output_type": "stream",
     "text": [
      "[A = Lambda(k!0,\n",
      "            If(k!0 == 2,\n",
      "               7,\n",
      "               If(And(Not(k!0 == 2),\n",
      "                      Not(k!0 == 1),\n",
      "                      k!0 == 0),\n",
      "                  5,\n",
      "                  If(And(Not(k!0 == 2),\n",
      "                         Not(k!0 == 1),\n",
      "                         Not(k!0 == 0)),\n",
      "                     8,\n",
      "                     If(And(Not(k!0 == 2), k!0 == 1), 6, 4)))))]\n"
     ]
    }
   ],
   "source": [
    "# Problem : UNBOUNDED ARRAYS STORY\n",
    "\n",
    "A = Array('A', IntSort(), IntSort())\n",
    "x, y = Ints('x y')\n",
    "solve (ForAll(x, And(A[x] >= 3,A[x] <= 10)), A[0] == 5, A[1] == 6, A[2] == 7, A[3] == 8)\n"
   ]
  }
 ],
 "metadata": {
  "kernelspec": {
   "display_name": "Python 3 (ipykernel)",
   "language": "python",
   "name": "python3"
  },
  "language_info": {
   "codemirror_mode": {
    "name": "ipython",
    "version": 3
   },
   "file_extension": ".py",
   "mimetype": "text/x-python",
   "name": "python",
   "nbconvert_exporter": "python",
   "pygments_lexer": "ipython3",
   "version": "3.8.5"
  }
 },
 "nbformat": 4,
 "nbformat_minor": 4
}
